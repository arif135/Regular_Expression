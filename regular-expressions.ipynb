{
 "cells": [
  {
   "cell_type": "code",
   "execution_count": 1,
   "metadata": {
    "_cell_guid": "b1076dfc-b9ad-4769-8c92-a6c4dae69d19",
    "_uuid": "8f2839f25d086af736a60e9eeb907d3b93b6e0e5"
   },
   "outputs": [],
   "source": [
    "# This Python 3 environment comes with many helpful analytics libraries installed\n",
    "# It is defined by the kaggle/python docker image: https://github.com/kaggle/docker-python\n",
    "# For example, here's several helpful packages to load in \n",
    "\n",
    "import numpy as np # linear algebra\n",
    "import pandas as pd # data processing, CSV file I/O (e.g. pd.read_csv)\n",
    "\n",
    "# Input data files are available in the \"../input/\" directory.\n",
    "# For example, running this (by clicking run or pressing Shift+Enter) will list all files under the input directory\n",
    "\n",
    "import os\n",
    "for dirname, _, filenames in os.walk('/kaggle/input'):\n",
    "    for filename in filenames:\n",
    "        print(os.path.join(dirname, filename))\n",
    "\n",
    "# Any results you write to the current directory are saved as output."
   ]
  },
  {
   "cell_type": "markdown",
   "metadata": {},
   "source": [
    "### The ‘re’ package provides multiple methods to perform queries on an input string. Here are the most commonly used methods, I will discuss:\n",
    "\n",
    "re.match() <br>\n",
    "re.search() <br>\n",
    "re.findall() <br>\n",
    "re.split() <br>\n",
    "re.sub() <br>\n",
    "re.compile() <br>\n",
    "Let’s look at them one by one."
   ]
  },
  {
   "cell_type": "code",
   "execution_count": 2,
   "metadata": {
    "_cell_guid": "79c7e3d0-c299-4dcb-8224-4455121ee9b0",
    "_uuid": "d629ff2d2480ee46fbb7e2d37f6b5fab8052498a"
   },
   "outputs": [],
   "source": [
    "import re"
   ]
  },
  {
   "cell_type": "markdown",
   "metadata": {},
   "source": [
    "# re.match()\n",
    "\n",
    "This method finds match if it occurs at start of the string. For example, calling match() on the string ‘AV Analytics AV’ and looking for <br> a pattern ‘AV’ will match. However, if we look for only Analytics, the pattern will not match. Let’s perform it in python now."
   ]
  },
  {
   "cell_type": "code",
   "execution_count": 3,
   "metadata": {},
   "outputs": [
    {
     "name": "stdout",
     "output_type": "stream",
     "text": [
      "<_sre.SRE_Match object; span=(0, 2), match='RE'>\n"
     ]
    }
   ],
   "source": [
    "# matching AV in the given sentence \n",
    "result = re.match(r'RE', 'RE Regular Expression RE')\n",
    "print(result)"
   ]
  },
  {
   "cell_type": "code",
   "execution_count": 4,
   "metadata": {},
   "outputs": [
    {
     "name": "stdout",
     "output_type": "stream",
     "text": [
      "\n",
      "Matching string : RE\n"
     ]
    }
   ],
   "source": [
    "# printing the matching string\n",
    "result = re.match(r'RE', 'RE Regular Expression RE')\n",
    "print ('\\nMatching string :',result.group(0))"
   ]
  },
  {
   "cell_type": "code",
   "execution_count": 5,
   "metadata": {},
   "outputs": [
    {
     "name": "stdout",
     "output_type": "stream",
     "text": [
      "\n",
      "Result : None\n"
     ]
    }
   ],
   "source": [
    "# matching Analytics in the given sentence\n",
    "result = re.match(r'Regular', 'RE Regular Expression RE')\n",
    "print ('\\nResult :', result)"
   ]
  },
  {
   "cell_type": "code",
   "execution_count": 6,
   "metadata": {},
   "outputs": [
    {
     "name": "stdout",
     "output_type": "stream",
     "text": [
      "\n",
      "Starting position of the match : 0\n",
      "Ending position of the match : 2\n"
     ]
    }
   ],
   "source": [
    "result = re.match(r'RE', 'RE Regular Expression RE')\n",
    "print ('\\nStarting position of the match :',result.start())\n",
    "print ('Ending position of the match :',result.end())"
   ]
  },
  {
   "cell_type": "markdown",
   "metadata": {},
   "source": [
    "# re.search()\n",
    "It is similar to match() but it doesn’t restrict us to find matches at the beginning of the string only. Unlike previous method, here <br> searching for pattern ‘Analytics’ will return a match."
   ]
  },
  {
   "cell_type": "code",
   "execution_count": 7,
   "metadata": {},
   "outputs": [
    {
     "name": "stdout",
     "output_type": "stream",
     "text": [
      "Regular\n"
     ]
    }
   ],
   "source": [
    "result = re.search(r'Regular', 'RE Regular Expression RE')\n",
    "print(result.group(0))"
   ]
  },
  {
   "cell_type": "markdown",
   "metadata": {},
   "source": [
    "# re.findall (pattern, string)\n",
    "It helps to get a list of all matching patterns. It has no constraints of searching from start or end. If we will use method findall to <br>search ‘AV’ in given string it will return both occurrence of AV. While searching a string, I would recommend you to use re.findall()<br> always, it can work like re.search() and re.match() both."
   ]
  },
  {
   "cell_type": "code",
   "execution_count": 8,
   "metadata": {},
   "outputs": [
    {
     "name": "stdout",
     "output_type": "stream",
     "text": [
      "['RE', 'RE']\n"
     ]
    }
   ],
   "source": [
    "result = re.findall(r'RE', 'RE Regular Expression RE')\n",
    "print (result)"
   ]
  },
  {
   "cell_type": "markdown",
   "metadata": {},
   "source": [
    "# re.split(pattern, string, [maxsplit=0]):\n",
    "This methods helps to split string by the occurrences of given pattern."
   ]
  },
  {
   "cell_type": "code",
   "execution_count": 9,
   "metadata": {},
   "outputs": [
    {
     "name": "stdout",
     "output_type": "stream",
     "text": [
      "['Data', 'cience']\n"
     ]
    }
   ],
   "source": [
    "result=re.split(r's','Datascience')\n",
    "print(result)"
   ]
  },
  {
   "cell_type": "code",
   "execution_count": 10,
   "metadata": {},
   "outputs": [
    {
     "name": "stdout",
     "output_type": "stream",
     "text": [
      "['Datasci', 'nc', ' Acad', 'm', 'y']\n"
     ]
    }
   ],
   "source": [
    "result=re.split(r'e','Datascience Academey')\n",
    "print( result)"
   ]
  },
  {
   "cell_type": "code",
   "execution_count": 11,
   "metadata": {},
   "outputs": [
    {
     "name": "stdout",
     "output_type": "stream",
     "text": [
      "['Datasci', 'nce Academey']\n"
     ]
    }
   ],
   "source": [
    "result=re.split(r'e','Datascience Academey', maxsplit=1)\n",
    "print( result)"
   ]
  },
  {
   "cell_type": "markdown",
   "metadata": {},
   "source": [
    "# re.sub(pattern, repl, string):\n",
    "It helps to search a pattern and replace with a new sub string. If the pattern is not found, string is returned unchanged."
   ]
  },
  {
   "cell_type": "code",
   "execution_count": 12,
   "metadata": {},
   "outputs": [
    {
     "data": {
      "text/plain": [
       "'This is map of World'"
      ]
     },
     "execution_count": 12,
     "metadata": {},
     "output_type": "execute_result"
    }
   ],
   "source": [
    "result=re.sub('India','World','This is map of India')\n",
    "result"
   ]
  },
  {
   "cell_type": "markdown",
   "metadata": {},
   "source": [
    "# re.compile(pattern, repl, string):\n",
    "We can combine a regular expression pattern into pattern objects, which can be used for pattern matching. It also helps to search a pattern again without rewriting it.\n",
    "\n",
    "\n"
   ]
  },
  {
   "cell_type": "code",
   "execution_count": 13,
   "metadata": {},
   "outputs": [
    {
     "name": "stdout",
     "output_type": "stream",
     "text": [
      "['FT', 'FT']\n",
      "['FT']\n"
     ]
    }
   ],
   "source": [
    "pattern=re.compile('FT')\n",
    "result=pattern.findall('FT Football Fever FT')\n",
    "print (result)\n",
    "result2=pattern.findall('FT Football Fever ALL Over The World')\n",
    "print (result2)"
   ]
  },
  {
   "cell_type": "markdown",
   "metadata": {},
   "source": [
    "### Return the first word of a given string"
   ]
  },
  {
   "cell_type": "code",
   "execution_count": 14,
   "metadata": {},
   "outputs": [
    {
     "name": "stdout",
     "output_type": "stream",
     "text": [
      "['F', 'T', ' ', 'F', 'o', 'o', 't', 'b', 'a', 'l', 'l', ' ', 'F', 'e', 'v', 'e', 'r', ' ', 'A', 'L', 'L', ' ', 'O', 'v', 'e', 'r', ' ', 'T', 'h', 'e', ' ', 'W', 'o', 'r', 'l', 'd']\n"
     ]
    }
   ],
   "source": [
    "result=re.findall('.','FT Football Fever ALL Over The World')\n",
    "print (result)"
   ]
  },
  {
   "cell_type": "code",
   "execution_count": 15,
   "metadata": {},
   "outputs": [
    {
     "name": "stdout",
     "output_type": "stream",
     "text": [
      "['F', 'T', 'F', 'o', 'o', 't', 'b', 'a', 'l', 'l', 'F', 'e', 'v', 'e', 'r', 'A', 'L', 'L', 'O', 'v', 'e', 'r', 'T', 'h', 'e', 'W', 'o', 'r', 'l', 'd']\n"
     ]
    }
   ],
   "source": [
    "result=re.findall('\\w','FT Football Fever ALL Over The World')\n",
    "print (result)"
   ]
  },
  {
   "cell_type": "code",
   "execution_count": 16,
   "metadata": {},
   "outputs": [
    {
     "name": "stdout",
     "output_type": "stream",
     "text": [
      "['FT', '', 'Football', '', 'Fever', '', 'ALL', '', 'Over', '', 'The', '', 'World', '']\n"
     ]
    }
   ],
   "source": [
    "result=re.findall('\\w*','FT Football Fever ALL Over The World')\n",
    "print (result)"
   ]
  },
  {
   "cell_type": "markdown",
   "metadata": {},
   "source": [
    "Again, it is returning space as a word because “*” returns zero or more matches of pattern to its left. Now to remove spaces we will go with “+“.\n",
    "\n"
   ]
  },
  {
   "cell_type": "code",
   "execution_count": 17,
   "metadata": {},
   "outputs": [
    {
     "name": "stdout",
     "output_type": "stream",
     "text": [
      "['FT', 'Football', 'Fever', 'ALL', 'Over', 'The', 'World']\n"
     ]
    }
   ],
   "source": [
    "result=re.findall('\\w+','FT Football Fever ALL Over The World')\n",
    "print (result)"
   ]
  },
  {
   "cell_type": "code",
   "execution_count": 18,
   "metadata": {},
   "outputs": [
    {
     "name": "stdout",
     "output_type": "stream",
     "text": [
      "['FT']\n"
     ]
    }
   ],
   "source": [
    "result=re.findall('^\\w+','FT Football Fever ALL Over The World')\n",
    "print (result)"
   ]
  },
  {
   "cell_type": "code",
   "execution_count": 19,
   "metadata": {},
   "outputs": [
    {
     "name": "stdout",
     "output_type": "stream",
     "text": [
      "['World']\n"
     ]
    }
   ],
   "source": [
    "result=re.findall('\\w+$','FT Football Fever ALL Over The World')\n",
    "print (result)"
   ]
  },
  {
   "cell_type": "markdown",
   "metadata": {},
   "source": [
    "# Return the first two character of each word"
   ]
  },
  {
   "cell_type": "code",
   "execution_count": 20,
   "metadata": {},
   "outputs": [
    {
     "name": "stdout",
     "output_type": "stream",
     "text": [
      "['FT', 'Fo', 'ot', 'ba', 'll', 'Fe', 've', 'AL', 'Ov', 'er', 'Th', 'Wo', 'rl']\n"
     ]
    }
   ],
   "source": [
    "result=re.findall('\\w\\w','FT Football Fever ALL Over The World')\n",
    "print (result)"
   ]
  },
  {
   "cell_type": "code",
   "execution_count": 21,
   "metadata": {},
   "outputs": [
    {
     "name": "stdout",
     "output_type": "stream",
     "text": [
      "['FT', 'Fo', 'Fe', 'AL', 'Ov', 'Th', 'Wo']\n"
     ]
    }
   ],
   "source": [
    "result=re.findall(r'\\b\\w.','FT Football Fever ALL Over The World')\n",
    "print (result)"
   ]
  },
  {
   "cell_type": "markdown",
   "metadata": {},
   "source": [
    "# Return the domain type of given email-ids\n"
   ]
  },
  {
   "cell_type": "code",
   "execution_count": 22,
   "metadata": {},
   "outputs": [
    {
     "name": "stdout",
     "output_type": "stream",
     "text": [
      "['@gmail', '@test', '@analytics', '@rest']\n"
     ]
    }
   ],
   "source": [
    "result=re.findall(r'@\\w+','abc.test@gmail.com, xyz@test.in, test.first@analytics.com, first.test@rest.biz') \n",
    "print (result)"
   ]
  },
  {
   "cell_type": "code",
   "execution_count": 23,
   "metadata": {},
   "outputs": [
    {
     "name": "stdout",
     "output_type": "stream",
     "text": [
      "['@gmail.com', '@test.in', '@analytics.com', '@rest.biz']\n"
     ]
    }
   ],
   "source": [
    "result=re.findall(r'@\\w+.\\w+','abc.test@gmail.com, xyz@test.in, test.first@analytics.com, first.test@rest.biz')\n",
    "print (result)"
   ]
  },
  {
   "cell_type": "code",
   "execution_count": 24,
   "metadata": {},
   "outputs": [
    {
     "name": "stdout",
     "output_type": "stream",
     "text": [
      "['com', 'in', 'com', 'biz']\n"
     ]
    }
   ],
   "source": [
    "result=re.findall(r'@\\w+.(\\w+)','abc.test@gmail.com, xyz@test.in, test.first@analytics.com, first.test@rest.biz')\n",
    "print (result)"
   ]
  },
  {
   "cell_type": "markdown",
   "metadata": {},
   "source": [
    "# Return date from given string\n",
    "Here we will use “\\d” to extract digit."
   ]
  },
  {
   "cell_type": "code",
   "execution_count": 25,
   "metadata": {},
   "outputs": [
    {
     "name": "stdout",
     "output_type": "stream",
     "text": [
      "['12-05-2007', '11-11-2011', '12-01-2009']\n"
     ]
    }
   ],
   "source": [
    "result=re.findall(r'\\d{2}-\\d{2}-\\d{4}','Amit 34-3456 12-05-2007, XYZ 56-4532 11-11-2011, ABC 67-8945 12-01-2009')\n",
    "print (result)"
   ]
  },
  {
   "cell_type": "code",
   "execution_count": 26,
   "metadata": {},
   "outputs": [
    {
     "name": "stdout",
     "output_type": "stream",
     "text": [
      "['2007', '2011', '2009']\n"
     ]
    }
   ],
   "source": [
    "result=re.findall(r'\\d{2}-\\d{2}-(\\d{4})','Amit 34-3456 12-05-2007, XYZ 56-4532 11-11-2011, ABC 67-8945 12-01-2009')\n",
    "print (result)"
   ]
  },
  {
   "cell_type": "markdown",
   "metadata": {},
   "source": [
    "# Return all words of a string those starts with vowel"
   ]
  },
  {
   "cell_type": "code",
   "execution_count": 27,
   "metadata": {},
   "outputs": [
    {
     "name": "stdout",
     "output_type": "stream",
     "text": [
      "['AV', 'is', 'largest', 'Analytics', 'community', 'of', 'India']\n"
     ]
    }
   ],
   "source": [
    "result=re.findall(r'\\w+','AV is largest Analytics community of India')\n",
    "print (result)"
   ]
  },
  {
   "cell_type": "code",
   "execution_count": 28,
   "metadata": {},
   "outputs": [
    {
     "name": "stdout",
     "output_type": "stream",
     "text": [
      "['AV', 'is', 'argest', 'Analytics', 'ommunity', 'of', 'India']\n"
     ]
    }
   ],
   "source": [
    "result=re.findall(r'[aeiouAEIOU]\\w+','AV is largest Analytics community of India')\n",
    "print (result)"
   ]
  },
  {
   "cell_type": "code",
   "execution_count": 29,
   "metadata": {},
   "outputs": [
    {
     "name": "stdout",
     "output_type": "stream",
     "text": [
      "['AV', 'is', 'Analytics', 'of', 'India']\n"
     ]
    }
   ],
   "source": [
    "result=re.findall(r'\\b[aeiouAEIOU]\\w+','AV is largest Analytics community of India')\n",
    "print (result)"
   ]
  },
  {
   "cell_type": "code",
   "execution_count": 30,
   "metadata": {},
   "outputs": [
    {
     "name": "stdout",
     "output_type": "stream",
     "text": [
      "[' is', ' largest', ' Analytics', ' community', ' of', ' India']\n"
     ]
    }
   ],
   "source": [
    "result=re.findall(r'[^aeiouAEIOU]\\w+','AV is largest Analytics community of India')\n",
    "print (result)"
   ]
  },
  {
   "cell_type": "code",
   "execution_count": 31,
   "metadata": {},
   "outputs": [
    {
     "name": "stdout",
     "output_type": "stream",
     "text": [
      "['largest', 'community']\n"
     ]
    }
   ],
   "source": [
    "result=re.findall(r'\\b[^aeiouAEIOU ]\\w+','AV is largest Analytics community of India')\n",
    "print (result)"
   ]
  },
  {
   "cell_type": "markdown",
   "metadata": {},
   "source": [
    "# Validate a phone number (phone number must be of 10 digits and starts with 8 or 9) \n"
   ]
  },
  {
   "cell_type": "code",
   "execution_count": 32,
   "metadata": {},
   "outputs": [
    {
     "name": "stdout",
     "output_type": "stream",
     "text": [
      "yes\n",
      "no\n",
      "no\n"
     ]
    }
   ],
   "source": [
    "li=['9999999999','999999-999','99999x9999']\n",
    "for val in li:\n",
    "     if re.match(r'[8-9]{1}[0-9]{9}',val) and len(val) == 10:\n",
    "        print ('yes')\n",
    "     else:\n",
    "         print ('no')"
   ]
  },
  {
   "cell_type": "markdown",
   "metadata": {},
   "source": [
    "# Split a string with multiple delimiters"
   ]
  },
  {
   "cell_type": "code",
   "execution_count": 33,
   "metadata": {},
   "outputs": [
    {
     "name": "stdout",
     "output_type": "stream",
     "text": [
      "['asdf', 'fjdk', 'afed', 'fjek', 'asdf', 'foo']\n"
     ]
    }
   ],
   "source": [
    "line = 'asdf fjdk;afed,fjek,asdf,foo' # String has multiple delimiters (\";\",\",\",\" \").\n",
    "result= re.split(r'[;,\\s]', line)\n",
    "print(result)"
   ]
  },
  {
   "cell_type": "markdown",
   "metadata": {},
   "source": [
    "We can also use method re.sub() to replace these multiple delimiters with one as space ” “."
   ]
  },
  {
   "cell_type": "code",
   "execution_count": 34,
   "metadata": {},
   "outputs": [
    {
     "name": "stdout",
     "output_type": "stream",
     "text": [
      "asdf fjdk afed fjek asdf foo\n"
     ]
    }
   ],
   "source": [
    "line = 'asdf fjdk;afed,fjek,asdf,foo' # String has multiple delimiters (\";\",\",\",\" \").\n",
    "result= re.sub(r'[;,\\s]',' ', line)\n",
    "print(result)"
   ]
  },
  {
   "cell_type": "markdown",
   "metadata": {},
   "source": [
    "# Retrieve Information from HTML file"
   ]
  },
  {
   "cell_type": "code",
   "execution_count": 35,
   "metadata": {},
   "outputs": [],
   "source": [
    "str=\"<tr align=center><td>1</td> <td>Noah</td> <td>Emma</td></tr> \\\n",
    "<tr align=center><td>2</td> <td>Liam</td> <td>Olivia</td></tr>\\\n",
    "<tr align=center><td>3</td> <td>Mason</td> <td>Sophia</td></tr> \\\n",
    "<tr align=center><td>4</td> <td>Jacob</td> <td>Isabella</td></tr> \\\n",
    "<tr align=center><td>5</td> <td>William</td> <td>Ava</td></tr> \\\n",
    "<tr align=center><td>6</td> <td>Ethan</td> <td>Mia</td></tr> \\\n",
    "<tr align=center><td>7</td> <td HTML>Michael</td> <td>Emily</td></tr>\""
   ]
  },
  {
   "cell_type": "code",
   "execution_count": 36,
   "metadata": {},
   "outputs": [
    {
     "name": "stdout",
     "output_type": "stream",
     "text": [
      "[('Noah', 'Emma'), ('Liam', 'Olivia'), ('Mason', 'Sophia'), ('Jacob', 'Isabella'), ('William', 'Ava'), ('Ethan', 'Mia')]\n"
     ]
    }
   ],
   "source": [
    "result=re.findall(r'<td>\\w+</td>\\s<td>(\\w+)</td>\\s<td>(\\w+)</td>',str)\n",
    "print (result)"
   ]
  },
  {
   "cell_type": "markdown",
   "metadata": {},
   "source": [
    "# Please upvote it, if it was useful for you."
   ]
  }
 ],
 "metadata": {
  "kernelspec": {
   "display_name": "Python 3",
   "language": "python",
   "name": "python3"
  },
  "language_info": {
   "codemirror_mode": {
    "name": "ipython",
    "version": 3
   },
   "file_extension": ".py",
   "mimetype": "text/x-python",
   "name": "python",
   "nbconvert_exporter": "python",
   "pygments_lexer": "ipython3",
   "version": "3.6.6"
  }
 },
 "nbformat": 4,
 "nbformat_minor": 1
}
